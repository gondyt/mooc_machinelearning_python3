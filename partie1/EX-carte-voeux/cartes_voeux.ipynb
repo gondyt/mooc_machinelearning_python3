{
 "cells": [
  {
   "cell_type": "code",
   "execution_count": 123,
   "metadata": {},
   "outputs": [],
   "source": [
    "%matplotlib inline\n",
    "import pandas as pd\n",
    "import seaborn as sns\n",
    "import matplotlib.pyplot as plt\n",
    "plt.style.use('seaborn-dark')\n",
    "plt.rcParams.update({ 'font.size' : 15, 'xtick.labelsize':15, 'ytick.labelsize':15 })"
   ]
  },
  {
   "cell_type": "code",
   "execution_count": 124,
   "metadata": {},
   "outputs": [],
   "source": [
    "data = pd.read_csv('births.csv')\n",
    "# remove nan values\n",
    "data = data.dropna()\n",
    "# remove lines where day = 99\n",
    "data = data[data.day != 99]"
   ]
  },
  {
   "cell_type": "code",
   "execution_count": 125,
   "metadata": {},
   "outputs": [
    {
     "data": {
      "text/html": [
       "<div>\n",
       "<style scoped>\n",
       "    .dataframe tbody tr th:only-of-type {\n",
       "        vertical-align: middle;\n",
       "    }\n",
       "\n",
       "    .dataframe tbody tr th {\n",
       "        vertical-align: top;\n",
       "    }\n",
       "\n",
       "    .dataframe thead th {\n",
       "        text-align: right;\n",
       "    }\n",
       "</style>\n",
       "<table border=\"1\" class=\"dataframe\">\n",
       "  <thead>\n",
       "    <tr style=\"text-align: right;\">\n",
       "      <th>month</th>\n",
       "      <th>1</th>\n",
       "      <th>2</th>\n",
       "      <th>3</th>\n",
       "      <th>4</th>\n",
       "      <th>5</th>\n",
       "      <th>6</th>\n",
       "      <th>7</th>\n",
       "      <th>8</th>\n",
       "      <th>9</th>\n",
       "      <th>10</th>\n",
       "      <th>11</th>\n",
       "      <th>12</th>\n",
       "    </tr>\n",
       "    <tr>\n",
       "      <th>year</th>\n",
       "      <th></th>\n",
       "      <th></th>\n",
       "      <th></th>\n",
       "      <th></th>\n",
       "      <th></th>\n",
       "      <th></th>\n",
       "      <th></th>\n",
       "      <th></th>\n",
       "      <th></th>\n",
       "      <th></th>\n",
       "      <th></th>\n",
       "      <th></th>\n",
       "    </tr>\n",
       "  </thead>\n",
       "  <tbody>\n",
       "    <tr>\n",
       "      <th>(1960, 1970]</th>\n",
       "      <td>596016</td>\n",
       "      <td>552006</td>\n",
       "      <td>603644</td>\n",
       "      <td>569490</td>\n",
       "      <td>587014</td>\n",
       "      <td>594698</td>\n",
       "      <td>648514</td>\n",
       "      <td>652036</td>\n",
       "      <td>644778</td>\n",
       "      <td>635762</td>\n",
       "      <td>606294</td>\n",
       "      <td>643698</td>\n",
       "    </tr>\n",
       "    <tr>\n",
       "      <th>(1970, 1980]</th>\n",
       "      <td>2752425</td>\n",
       "      <td>2553947</td>\n",
       "      <td>2776784</td>\n",
       "      <td>2609183</td>\n",
       "      <td>2710739</td>\n",
       "      <td>2686452</td>\n",
       "      <td>2919502</td>\n",
       "      <td>2979968</td>\n",
       "      <td>2924062</td>\n",
       "      <td>2866497</td>\n",
       "      <td>2696224</td>\n",
       "      <td>2786956</td>\n",
       "    </tr>\n",
       "    <tr>\n",
       "      <th>(1980, 1990]</th>\n",
       "      <td>2410724</td>\n",
       "      <td>2256993</td>\n",
       "      <td>2487712</td>\n",
       "      <td>2382230</td>\n",
       "      <td>2487467</td>\n",
       "      <td>2477546</td>\n",
       "      <td>2652279</td>\n",
       "      <td>2677760</td>\n",
       "      <td>2637333</td>\n",
       "      <td>2553113</td>\n",
       "      <td>2392970</td>\n",
       "      <td>2473722</td>\n",
       "    </tr>\n",
       "  </tbody>\n",
       "</table>\n",
       "</div>"
      ],
      "text/plain": [
       "month              1        2        3        4        5        6        7   \\\n",
       "year                                                                          \n",
       "(1960, 1970]   596016   552006   603644   569490   587014   594698   648514   \n",
       "(1970, 1980]  2752425  2553947  2776784  2609183  2710739  2686452  2919502   \n",
       "(1980, 1990]  2410724  2256993  2487712  2382230  2487467  2477546  2652279   \n",
       "\n",
       "month              8        9        10       11       12  \n",
       "year                                                       \n",
       "(1960, 1970]   652036   644778   635762   606294   643698  \n",
       "(1970, 1980]  2979968  2924062  2866497  2696224  2786956  \n",
       "(1980, 1990]  2677760  2637333  2553113  2392970  2473722  "
      ]
     },
     "execution_count": 125,
     "metadata": {},
     "output_type": "execute_result"
    }
   ],
   "source": [
    "year = pd.cut(data['year'], [1960, 1970, 1980, 1990])\n",
    "visu = data.pivot_table('births', year, 'month', aggfunc='sum')\n",
    "visu"
   ]
  },
  {
   "cell_type": "code",
   "execution_count": 126,
   "metadata": {},
   "outputs": [],
   "source": [
    "date_df = data.loc[:, ['year', 'month', 'day']]\n",
    "date = pd.to_datetime(date_df, format='%Y-%m-%d', errors='coerce')"
   ]
  },
  {
   "cell_type": "code",
   "execution_count": 127,
   "metadata": {},
   "outputs": [],
   "source": [
    "date_df = date.to_frame()\n",
    "date_df = date_df.rename(columns={0:\"date\"})"
   ]
  },
  {
   "cell_type": "code",
   "execution_count": 138,
   "metadata": {},
   "outputs": [],
   "source": [
    "data = data.loc[:, ['gender', 'births']]\n",
    "data = pd.concat([date_df, data], axis=1)\n",
    "data['day'] = data['date'].dt.day_name()"
   ]
  },
  {
   "cell_type": "code",
   "execution_count": 141,
   "metadata": {},
   "outputs": [
    {
     "data": {
      "text/html": [
       "<div>\n",
       "<style scoped>\n",
       "    .dataframe tbody tr th:only-of-type {\n",
       "        vertical-align: middle;\n",
       "    }\n",
       "\n",
       "    .dataframe tbody tr th {\n",
       "        vertical-align: top;\n",
       "    }\n",
       "\n",
       "    .dataframe thead th {\n",
       "        text-align: right;\n",
       "    }\n",
       "</style>\n",
       "<table border=\"1\" class=\"dataframe\">\n",
       "  <thead>\n",
       "    <tr style=\"text-align: right;\">\n",
       "      <th>day</th>\n",
       "      <th>Friday</th>\n",
       "      <th>Monday</th>\n",
       "      <th>Saturday</th>\n",
       "      <th>Sunday</th>\n",
       "      <th>Thursday</th>\n",
       "      <th>Tuesday</th>\n",
       "      <th>Wednesday</th>\n",
       "    </tr>\n",
       "    <tr>\n",
       "      <th>year</th>\n",
       "      <th></th>\n",
       "      <th></th>\n",
       "      <th></th>\n",
       "      <th></th>\n",
       "      <th></th>\n",
       "      <th></th>\n",
       "      <th></th>\n",
       "    </tr>\n",
       "  </thead>\n",
       "  <tbody>\n",
       "    <tr>\n",
       "      <th>(1960, 1970]</th>\n",
       "      <td>1078904</td>\n",
       "      <td>1072594</td>\n",
       "      <td>982794</td>\n",
       "      <td>918524</td>\n",
       "      <td>1066176</td>\n",
       "      <td>1123488</td>\n",
       "      <td>1090704</td>\n",
       "    </tr>\n",
       "    <tr>\n",
       "      <th>(1970, 1980]</th>\n",
       "      <td>4982204</td>\n",
       "      <td>4882617</td>\n",
       "      <td>4358362</td>\n",
       "      <td>4137862</td>\n",
       "      <td>4885094</td>\n",
       "      <td>5074669</td>\n",
       "      <td>4941667</td>\n",
       "    </tr>\n",
       "    <tr>\n",
       "      <th>(1980, 1990]</th>\n",
       "      <td>4532122</td>\n",
       "      <td>4416584</td>\n",
       "      <td>3750348</td>\n",
       "      <td>3590602</td>\n",
       "      <td>4483536</td>\n",
       "      <td>4615642</td>\n",
       "      <td>4501015</td>\n",
       "    </tr>\n",
       "  </tbody>\n",
       "</table>\n",
       "</div>"
      ],
      "text/plain": [
       "day            Friday   Monday  Saturday   Sunday  Thursday  Tuesday  \\\n",
       "year                                                                   \n",
       "(1960, 1970]  1078904  1072594    982794   918524   1066176  1123488   \n",
       "(1970, 1980]  4982204  4882617   4358362  4137862   4885094  5074669   \n",
       "(1980, 1990]  4532122  4416584   3750348  3590602   4483536  4615642   \n",
       "\n",
       "day           Wednesday  \n",
       "year                     \n",
       "(1960, 1970]    1090704  \n",
       "(1970, 1980]    4941667  \n",
       "(1980, 1990]    4501015  "
      ]
     },
     "execution_count": 141,
     "metadata": {},
     "output_type": "execute_result"
    }
   ],
   "source": [
    "visu = data.pivot_table('births', year, 'day', aggfunc='sum')\n",
    "visu"
   ]
  },
  {
   "cell_type": "code",
   "execution_count": 158,
   "metadata": {},
   "outputs": [],
   "source": [
    "visu = visu.rename(columns={'Friday':'Fri',\n",
    "                            'Monday':'Mon',\n",
    "                            'Saturday':'Sat',\n",
    "                            'Sunday':'Sun',\n",
    "                            'Thursday':'Thu',\n",
    "                            'Tuesday': 'Tue',\n",
    "                            'Wednesday':'Wed'})"
   ]
  },
  {
   "cell_type": "code",
   "execution_count": 160,
   "metadata": {},
   "outputs": [
    {
     "data": {
      "text/plain": [
       "<matplotlib.legend.Legend at 0x7f87250ebe10>"
      ]
     },
     "execution_count": 160,
     "metadata": {},
     "output_type": "execute_result"
    },
    {
     "data": {
      "image/png": "[encoded data removed]",
      "text/plain": [
       "<Figure size 432x288 with 1 Axes>"
      ]
     },
     "metadata": {},
     "output_type": "display_data"
    }
   ],
   "source": [
    "fig, ax = plt.figure(), plt.axes()\n",
    "plt.plot(visu.iloc[0], color='blue', label='1960-1970')\n",
    "plt.plot(visu.iloc[1], color='green', label='1970-1980')\n",
    "plt.plot(visu.iloc[2], color='red', label='1980-1990')\n",
    "ax.set(xlabel='Jour de la semaine', ylabel='Nombre de naissances')\n",
    "plt.title(\"Nombre de naissance par jour de\\n la semaine selon trois décennies\")\n",
    "plt.legend(loc='center right', frameon=True)"
   ]
  },
  {
   "cell_type": "code",
   "execution_count": null,
   "metadata": {},
   "outputs": [],
   "source": []
  }
 ],
 "metadata": {
  "kernelspec": {
   "display_name": "Python 3",
   "language": "python",
   "name": "python3"
  },
  "language_info": {
   "codemirror_mode": {
    "name": "ipython",
    "version": 3
   },
   "file_extension": ".py",
   "mimetype": "text/x-python",
   "name": "python",
   "nbconvert_exporter": "python",
   "pygments_lexer": "ipython3",
   "version": "3.7.6"
  }
 },
 "nbformat": 4,
 "nbformat_minor": 4
}
