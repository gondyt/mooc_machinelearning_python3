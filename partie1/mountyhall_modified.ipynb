{
 "cells": [
  {
   "cell_type": "code",
   "execution_count": 26,
   "metadata": {},
   "outputs": [],
   "source": [
    "# permet l'affchage des graphiques dans la continuité du code,\n",
    "# et non dans une fenêtre à part\n",
    "%matplotlib inline\n",
    "\n",
    "# importations\n",
    "from random import randint\n",
    "from enum import Enum\n",
    "import numpy as np\n",
    "import matplotlib.pyplot as plt"
   ]
  },
  {
   "cell_type": "code",
   "execution_count": 27,
   "metadata": {},
   "outputs": [],
   "source": [
    "# definition d'une classe Strategy afin d'organiser la récupération\n",
    "# des résultats obtenus :\n",
    "# > KEEP (garder la porte de départ) = 0\n",
    "# > CHANGE (changer de porte) = 1\n",
    "# > ALEA (choisir aléatoirement entre la porte de départ et la non-éliminée) = 2\n",
    "class Strategy(Enum):\n",
    "    KEEP = 0\n",
    "    CHANGE = 1\n",
    "    ALEA = 2"
   ]
  },
  {
   "cell_type": "code",
   "execution_count": 48,
   "metadata": {},
   "outputs": [],
   "source": [
    "# Fonction play_game\n",
    "# Simule une partie du jeu de Mounty Hall (modifié) en prenant\n",
    "# la stratégie à appliquer en paramètre\n",
    "def play_game(strategy):\n",
    "    # on numérote les portes de 0 à 2\n",
    "    doors = [0, 1, 2]\n",
    "    # on fixe au hasard quelle est la bonne porte\n",
    "    good_door = randint(0, 2)\n",
    "    # le joueur fait son premier choix au hasard, que l'on retire\n",
    "    # de la liste des portes\n",
    "    first_choice = randint(0, 2)\n",
    "    doors.remove(first_choice)\n",
    "    \n",
    "    # si le premier choix du joueur est la bonne porte\n",
    "    # on retire au hasard l'une des portes (mauvaises) restantes\n",
    "    # dans la liste des portes\n",
    "    if (first_choice == good_door):\n",
    "        doors.remove(doors[randint(0, 1)])\n",
    "    # sinon on met à jour la valeur de doors (qui est forcément\n",
    "    # la bonne porte, donc) :\n",
    "    else:\n",
    "        doors = [good_door]\n",
    "    \n",
    "    # on instancie le second choix à la valeur 0\n",
    "    second_choice = 0\n",
    "    \n",
    "    # si la stratégie à appliquer est de garder la première porte :\n",
    "    # alors second_choice prends la valeur de first_choice\n",
    "    if (strategy == Strategy.KEEP):\n",
    "        second_choice = first_choice\n",
    "    # sinon si la stratégie est de changer de porte :\n",
    "    # second_choice prends la valeur de la seule autre porte\n",
    "    elif (strategy == Strategy.CHANGE) :\n",
    "        second_choice = doors[0]\n",
    "    # sinon si la stratégie est de choisir au hasard :\n",
    "    else:\n",
    "        h = randint(0,1)\n",
    "        if (h == 1):\n",
    "            second_choice = first_choice\n",
    "        else:\n",
    "            second_choice = doors[0]\n",
    "    \n",
    "    return second_choice == good_door"
   ]
  },
  {
   "cell_type": "code",
   "execution_count": 29,
   "metadata": {},
   "outputs": [],
   "source": [
    "# Fonction play\n",
    "# prends une stratégie à appliquer et un entier itr\n",
    "# renvoie une liste de taille itr contenant des 1 et 0\n",
    "# > 1 si le joueur a gagné\n",
    "# > 0 s'il a perdu\n",
    "def play(strategy, itr):\n",
    "    return [1 if play_game(strategy) else 0 for i in range(itr)]"
   ]
  },
  {
   "cell_type": "code",
   "execution_count": 49,
   "metadata": {},
   "outputs": [
    {
     "data": {
      "text/plain": [
       "<BarContainer object of 3 artists>"
      ]
     },
     "execution_count": 49,
     "metadata": {},
     "output_type": "execute_result"
    },
    {
     "data": {
      "image/png": "[encoded data removed]",
      "text/plain": [
       "<Figure size 432x288 with 1 Axes>"
      ]
     },
     "metadata": {
      "needs_background": "light"
     },
     "output_type": "display_data"
    }
   ],
   "source": [
    "plt.bar( [1,2,3], [sum(play(Strategy.KEEP, 1000)), \n",
    "                   sum(play(Strategy.CHANGE, 1000)),\n",
    "                   sum(play(Strategy.ALEA, 1000))] )"
   ]
  },
  {
   "cell_type": "code",
   "execution_count": 51,
   "metadata": {},
   "outputs": [],
   "source": [
    "wins_CHANGE = []\n",
    "wins_KEEP = []\n",
    "wins_ALEA = []\n",
    "samples = [1000, 10000, 20000, 50000, 80000, 100000]\n",
    "for turns in samples:\n",
    "    wins_CHANGE.append(play(Strategy.CHANGE, turns))\n",
    "    wins_KEEP.append(play(Strategy.KEEP, turns))\n",
    "    wins_ALEA.append(play(Strategy.ALEA, turns))"
   ]
  },
  {
   "cell_type": "code",
   "execution_count": 52,
   "metadata": {},
   "outputs": [
    {
     "data": {
      "text/plain": [
       "<matplotlib.collections.PathCollection at 0x7f25b5c0e850>"
      ]
     },
     "execution_count": 52,
     "metadata": {},
     "output_type": "execute_result"
    },
    {
     "data": {
      "image/png": "[encoded data removed]",
      "text/plain": [
       "<Figure size 432x288 with 1 Axes>"
      ]
     },
     "metadata": {
      "needs_background": "light"
     },
     "output_type": "display_data"
    }
   ],
   "source": [
    "figure = plt.figure()\n",
    "plt.scatter(samples, [sum(x) for x in wins_CHANGE])\n",
    "plt.scatter(samples, [sum(x) for x in wins_KEEP])\n",
    "plt.scatter(samples, [sum(x) for x in wins_ALEA])"
   ]
  },
  {
   "cell_type": "code",
   "execution_count": null,
   "metadata": {},
   "outputs": [],
   "source": []
  },
  {
   "cell_type": "code",
   "execution_count": null,
   "metadata": {},
   "outputs": [],
   "source": []
  }
 ],
 "metadata": {
  "kernelspec": {
   "display_name": "Python 3",
   "language": "python",
   "name": "python3"
  },
  "language_info": {
   "codemirror_mode": {
    "name": "ipython",
    "version": 3
   },
   "file_extension": ".py",
   "mimetype": "text/x-python",
   "name": "python",
   "nbconvert_exporter": "python",
   "pygments_lexer": "ipython3",
   "version": "3.7.6"
  }
 },
 "nbformat": 4,
 "nbformat_minor": 4
}
