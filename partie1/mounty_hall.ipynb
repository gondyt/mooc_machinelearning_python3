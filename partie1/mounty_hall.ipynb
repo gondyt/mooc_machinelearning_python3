{
 "cells": [
  {
   "cell_type": "code",
   "execution_count": 16,
   "metadata": {},
   "outputs": [],
   "source": [
    "# permet l'affchage des graphiques dans la continuité du code,\n",
    "# et non dans une fenêtre à part\n",
    "%matplotlib inline\n",
    "\n",
    "# importations\n",
    "from random import randint\n",
    "from enum import Enum\n",
    "import numpy as np\n",
    "import matplotlib.pyplot as plt"
   ]
  },
  {
   "cell_type": "code",
   "execution_count": 2,
   "metadata": {},
   "outputs": [],
   "source": [
    "# definition d'une classe Strategy afin d'organiser la récupération\n",
    "# des résultats obtenus\n",
    "# CHANGE (changer de porte) = 1 et KEEP (garder la porte de départ) = 0\n",
    "class Strategy(Enum):\n",
    "    CHANGE = 1\n",
    "    KEEP = 0"
   ]
  },
  {
   "cell_type": "code",
   "execution_count": 3,
   "metadata": {},
   "outputs": [],
   "source": [
    "# Fonction play_game\n",
    "# Simule une partie\n",
    "def play_game(strategy):\n",
    "    doors = [0, 1, 2]\n",
    "    right_door = randint(0, 2)\n",
    "    first_choice = randint(0, 2)\n",
    "    \n",
    "    doors.remove(first_choice)\n",
    "    if (first_choice == right_door):\n",
    "        doors.remove(doors[randint(0, 1)])\n",
    "    else:\n",
    "        doors = [right_door]\n",
    "    \n",
    "    second_choice = 0\n",
    "    \n",
    "    if (strategy == Strategy.KEEP):\n",
    "        second_choice = first_choice\n",
    "    else:\n",
    "        second_choice = doors[0]\n",
    "    \n",
    "    return second_choice == right_door"
   ]
  },
  {
   "cell_type": "code",
   "execution_count": 4,
   "metadata": {},
   "outputs": [
    {
     "name": "stdout",
     "output_type": "stream",
     "text": [
      "If we keep the same door :\n",
      "False\n",
      "False\n",
      "True\n",
      "False\n",
      "False\n",
      "False\n",
      "True\n",
      "False\n",
      "True\n",
      "False\n",
      "If we change the door :\n",
      "True\n",
      "True\n",
      "False\n",
      "True\n",
      "False\n",
      "True\n",
      "True\n",
      "False\n",
      "True\n",
      "True\n"
     ]
    }
   ],
   "source": [
    "print(\"If we keep the same door :\")\n",
    "for i in range(0,10):\n",
    "    print(play_game(Strategy.KEEP))\n",
    "print(\"If we change the door :\")\n",
    "for i in range(0, 10):\n",
    "    print(play_game(Strategy.CHANGE))"
   ]
  },
  {
   "cell_type": "code",
   "execution_count": 5,
   "metadata": {},
   "outputs": [],
   "source": [
    "def play(strategy, itr):\n",
    "    return [1 if play_game(strategy) else 0 for i in range(itr)]"
   ]
  },
  {
   "cell_type": "code",
   "execution_count": 6,
   "metadata": {},
   "outputs": [
    {
     "data": {
      "text/plain": [
       "335"
      ]
     },
     "execution_count": 6,
     "metadata": {},
     "output_type": "execute_result"
    }
   ],
   "source": [
    "sum(play(Strategy.KEEP, 1000))"
   ]
  },
  {
   "cell_type": "code",
   "execution_count": 7,
   "metadata": {},
   "outputs": [
    {
     "data": {
      "text/plain": [
       "665"
      ]
     },
     "execution_count": 7,
     "metadata": {},
     "output_type": "execute_result"
    }
   ],
   "source": [
    "sum (play(Strategy.CHANGE, 1000))"
   ]
  },
  {
   "cell_type": "code",
   "execution_count": 22,
   "metadata": {},
   "outputs": [
    {
     "data": {
      "text/plain": [
       "<BarContainer object of 2 artists>"
      ]
     },
     "execution_count": 22,
     "metadata": {},
     "output_type": "execute_result"
    },
    {
     "data": {
      "image/png": "[encoded data removed]",
      "text/plain": [
       "<Figure size 432x288 with 1 Axes>"
      ]
     },
     "metadata": {
      "needs_background": "light"
     },
     "output_type": "display_data"
    }
   ],
   "source": [
    "plt.bar( [1,2], [sum(play(Strategy.KEEP, 1000)), sum (play(Strategy.CHANGE, 1000))] )"
   ]
  },
  {
   "cell_type": "code",
   "execution_count": 9,
   "metadata": {},
   "outputs": [],
   "source": [
    "win_change = []\n",
    "win_keep = []\n",
    "samples = [1000, 10000, 20000, 50000, 80000, 100000]\n",
    "for turns in samples:\n",
    "    win_change.append(play(Strategy.CHANGE, turns))\n",
    "    win_keep.append(play(Strategy.KEEP, turns))"
   ]
  },
  {
   "cell_type": "code",
   "execution_count": 10,
   "metadata": {
    "scrolled": true
   },
   "outputs": [
    {
     "data": {
      "image/png": "[encoded data removed]",
      "text/plain": [
       "<Figure size 432x288 with 1 Axes>"
      ]
     },
     "metadata": {
      "needs_background": "light"
     },
     "output_type": "display_data"
    }
   ],
   "source": [
    "figure = plt.figure()\n",
    "plot = plt.scatter(samples, [sum(x) for x in win_change])\n",
    "plot = plt.scatter(samples, [sum(x) for x in win_keep])"
   ]
  },
  {
   "cell_type": "code",
   "execution_count": 27,
   "metadata": {},
   "outputs": [
    {
     "data": {
      "text/plain": [
       "<matplotlib.legend.Legend at 0x7fddbc415ad0>"
      ]
     },
     "execution_count": 27,
     "metadata": {},
     "output_type": "execute_result"
    },
    {
     "data": {
      "image/png": "[encoded data removed]",
      "text/plain": [
       "<Figure size 432x288 with 1 Axes>"
      ]
     },
     "metadata": {
      "needs_background": "light"
     },
     "output_type": "display_data"
    }
   ],
   "source": [
    "X_change_mean = [np.mean(x) for x in win_change]\n",
    "X_keep_mean = [np.mean(x) for x in win_keep]\n",
    "\n",
    "labels = [\"1000\", \"10000\", \"20000\", \"50000\", \"80000\", \"100000\"]\n",
    "x = np.arange(len(labels))\n",
    "width = 0.35\n",
    "\n",
    "figure, ax = plt.subplots()\n",
    "bar1 = ax.bar(x - width/2, X_change_mean, width, label='Change')\n",
    "bar2 = ax.bar(x + width/2, X_keep_mean, width, label='Keep')\n",
    "\n",
    "ax.set_ylabel('Moyenne')\n",
    "ax.set_xlabel('Nombre de parties simulées')\n",
    "ax.set_xticks(x)\n",
    "ax.set_xticklabels(labels)\n",
    "ax.legend()"
   ]
  },
  {
   "cell_type": "code",
   "execution_count": null,
   "metadata": {},
   "outputs": [],
   "source": []
  },
  {
   "cell_type": "code",
   "execution_count": null,
   "metadata": {},
   "outputs": [],
   "source": []
  }
 ],
 "metadata": {
  "kernelspec": {
   "display_name": "Python 3",
   "language": "python",
   "name": "python3"
  },
  "language_info": {
   "codemirror_mode": {
    "name": "ipython",
    "version": 3
   },
   "file_extension": ".py",
   "mimetype": "text/x-python",
   "name": "python",
   "nbconvert_exporter": "python",
   "pygments_lexer": "ipython3",
   "version": "3.7.6"
  }
 },
 "nbformat": 4,
 "nbformat_minor": 4
}
