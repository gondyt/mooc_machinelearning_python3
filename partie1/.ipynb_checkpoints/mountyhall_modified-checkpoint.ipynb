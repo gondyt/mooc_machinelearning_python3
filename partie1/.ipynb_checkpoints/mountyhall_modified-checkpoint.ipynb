{
 "cells": [
  {
   "cell_type": "code",
   "execution_count": 1,
   "metadata": {},
   "outputs": [],
   "source": [
    "# permet l'affchage des graphiques dans la continuité du code,\n",
    "# et non dans une fenêtre à part\n",
    "%matplotlib inline\n",
    "\n",
    "# importations\n",
    "from random import randint\n",
    "from enum import Enum\n",
    "import numpy as np\n",
    "import matplotlib.pyplot as plt"
   ]
  },
  {
   "cell_type": "code",
   "execution_count": 2,
   "metadata": {},
   "outputs": [],
   "source": [
    "# definition d'une classe Strategy afin d'organiser la récupération\n",
    "# des résultats obtenus :\n",
    "# > KEEP (garder la porte de départ) = 0\n",
    "# > CHANGE (changer de porte) = 1\n",
    "# > ALEA (choisir aléatoirement entre la porte de départ et la non-éliminée) = 2\n",
    "class Strategy(Enum):\n",
    "    KEEP = 0\n",
    "    CHANGE = 1\n",
    "    ALEA = 2"
   ]
  },
  {
   "cell_type": "code",
   "execution_count": 11,
   "metadata": {},
   "outputs": [],
   "source": [
    "# Fonction play_game\n",
    "# Simule une partie du jeu de Mounty Hall (modifié) en prenant\n",
    "# la stratégie à appliquer en paramètre\n",
    "def play_game(strategy):\n",
    "    # on numérote les portes de 0 à 2\n",
    "    doors = [0, 1, 2]\n",
    "    # on fixe au hasard quelle est la bonne porte\n",
    "    good_door = randint(0, 2)\n",
    "    # le joueur fait son premier choix au hasard, que l'on retire\n",
    "    # de la liste des portes\n",
    "    first_choice = randint(0, 2)\n",
    "    doors.remove(first_choice)\n",
    "    \n",
    "    # si le premier choix du joueur est la bonne porte\n",
    "    # on retire au hasard l'une des portes (mauvaises) restantes\n",
    "    # dans la liste des portes\n",
    "    if (first_choice == good_door):\n",
    "        doors.remove(doors[randint(0, 1)])\n",
    "    # sinon on met à jour la valeur de doors (qui est forcément\n",
    "    # la bonne porte, donc) :\n",
    "    else:\n",
    "        doors = [good_door]\n",
    "    \n",
    "    # on instancie le second choix à la valeur 0\n",
    "    second_choice = 0\n",
    "    \n",
    "    # si la stratégie à appliquer est de garder la première porte :\n",
    "    # alors second_choice prends la valeur de first_choice\n",
    "    if (strategy == Strategy.KEEP):\n",
    "        second_choice = first_choice\n",
    "    # sinon si la stratégie est de changer de porte :\n",
    "    # second_choice prends la valeur de la seule autre porte\n",
    "    elif (strategy == Strategy.CHANGE) :\n",
    "        second_choice = doors[0]\n",
    "    # sinon si la stratégie est de choisir au hasard :\n",
    "    else:\n",
    "        h = randint(1)\n",
    "        if (h == Strategy.KEEP):\n",
    "            second_choice = first_choice\n",
    "        else:\n",
    "            second_choice = doors[0]\n",
    "    \n",
    "    return second_choice == good_door"
   ]
  },
  {
   "cell_type": "code",
   "execution_count": 9,
   "metadata": {},
   "outputs": [],
   "source": [
    "# Fonction play\n",
    "# prends une stratégie à appliquer et un entier itr\n",
    "# renvoie une liste de taille itr contenant des 1 et 0\n",
    "# > 1 si le joueur a gagné\n",
    "# > 0 s'il a perdu\n",
    "def play(strategy, itr):\n",
    "    return [1 if play_game(strategy) else 0 for i in range(itr)]"
   ]
  },
  {
   "cell_type": "code",
   "execution_count": 12,
   "metadata": {},
   "outputs": [
    {
     "ename": "NameError",
     "evalue": "name 'stratefy' is not defined",
     "output_type": "error",
     "traceback": [
      "\u001b[0;31m---------------------------------------------------------------------------\u001b[0m",
      "\u001b[0;31mNameError\u001b[0m                                 Traceback (most recent call last)",
      "\u001b[0;32m<ipython-input-12-454f3a1af424>\u001b[0m in \u001b[0;36m<module>\u001b[0;34m\u001b[0m\n\u001b[1;32m      1\u001b[0m plt.bar( [1,2,3], [sum(play(Strategy.KEEP, 1000)), \n\u001b[0;32m----> 2\u001b[0;31m                    \u001b[0msum\u001b[0m\u001b[0;34m(\u001b[0m\u001b[0mplay\u001b[0m\u001b[0;34m(\u001b[0m\u001b[0mStrategy\u001b[0m\u001b[0;34m.\u001b[0m\u001b[0mCHANGE\u001b[0m\u001b[0;34m,\u001b[0m \u001b[0;36m1000\u001b[0m\u001b[0;34m)\u001b[0m\u001b[0;34m)\u001b[0m\u001b[0;34m,\u001b[0m\u001b[0;34m\u001b[0m\u001b[0;34m\u001b[0m\u001b[0m\n\u001b[0m\u001b[1;32m      3\u001b[0m                    sum(play(Strategy.ALEA, 1000))] )\n",
      "\u001b[0;32m<ipython-input-9-fe8176e2bec2>\u001b[0m in \u001b[0;36mplay\u001b[0;34m(strategy, itr)\u001b[0m\n\u001b[1;32m      5\u001b[0m \u001b[0;31m# > 0 s'il a perdu\u001b[0m\u001b[0;34m\u001b[0m\u001b[0;34m\u001b[0m\u001b[0;34m\u001b[0m\u001b[0m\n\u001b[1;32m      6\u001b[0m \u001b[0;32mdef\u001b[0m \u001b[0mplay\u001b[0m\u001b[0;34m(\u001b[0m\u001b[0mstrategy\u001b[0m\u001b[0;34m,\u001b[0m \u001b[0mitr\u001b[0m\u001b[0;34m)\u001b[0m\u001b[0;34m:\u001b[0m\u001b[0;34m\u001b[0m\u001b[0;34m\u001b[0m\u001b[0m\n\u001b[0;32m----> 7\u001b[0;31m     \u001b[0;32mreturn\u001b[0m \u001b[0;34m[\u001b[0m\u001b[0;36m1\u001b[0m \u001b[0;32mif\u001b[0m \u001b[0mplay_game\u001b[0m\u001b[0;34m(\u001b[0m\u001b[0mstrategy\u001b[0m\u001b[0;34m)\u001b[0m \u001b[0;32melse\u001b[0m \u001b[0;36m0\u001b[0m \u001b[0;32mfor\u001b[0m \u001b[0mi\u001b[0m \u001b[0;32min\u001b[0m \u001b[0mrange\u001b[0m\u001b[0;34m(\u001b[0m\u001b[0mitr\u001b[0m\u001b[0;34m)\u001b[0m\u001b[0;34m]\u001b[0m\u001b[0;34m\u001b[0m\u001b[0;34m\u001b[0m\u001b[0m\n\u001b[0m",
      "\u001b[0;32m<ipython-input-9-fe8176e2bec2>\u001b[0m in \u001b[0;36m<listcomp>\u001b[0;34m(.0)\u001b[0m\n\u001b[1;32m      5\u001b[0m \u001b[0;31m# > 0 s'il a perdu\u001b[0m\u001b[0;34m\u001b[0m\u001b[0;34m\u001b[0m\u001b[0;34m\u001b[0m\u001b[0m\n\u001b[1;32m      6\u001b[0m \u001b[0;32mdef\u001b[0m \u001b[0mplay\u001b[0m\u001b[0;34m(\u001b[0m\u001b[0mstrategy\u001b[0m\u001b[0;34m,\u001b[0m \u001b[0mitr\u001b[0m\u001b[0;34m)\u001b[0m\u001b[0;34m:\u001b[0m\u001b[0;34m\u001b[0m\u001b[0;34m\u001b[0m\u001b[0m\n\u001b[0;32m----> 7\u001b[0;31m     \u001b[0;32mreturn\u001b[0m \u001b[0;34m[\u001b[0m\u001b[0;36m1\u001b[0m \u001b[0;32mif\u001b[0m \u001b[0mplay_game\u001b[0m\u001b[0;34m(\u001b[0m\u001b[0mstrategy\u001b[0m\u001b[0;34m)\u001b[0m \u001b[0;32melse\u001b[0m \u001b[0;36m0\u001b[0m \u001b[0;32mfor\u001b[0m \u001b[0mi\u001b[0m \u001b[0;32min\u001b[0m \u001b[0mrange\u001b[0m\u001b[0;34m(\u001b[0m\u001b[0mitr\u001b[0m\u001b[0;34m)\u001b[0m\u001b[0;34m]\u001b[0m\u001b[0;34m\u001b[0m\u001b[0;34m\u001b[0m\u001b[0m\n\u001b[0m",
      "\u001b[0;32m<ipython-input-11-7d51462843c2>\u001b[0m in \u001b[0;36mplay_game\u001b[0;34m(strategy)\u001b[0m\n\u001b[1;32m     31\u001b[0m     \u001b[0;31m# sinon si la stratégie est de changer de porte :\u001b[0m\u001b[0;34m\u001b[0m\u001b[0;34m\u001b[0m\u001b[0;34m\u001b[0m\u001b[0m\n\u001b[1;32m     32\u001b[0m     \u001b[0;31m# second_choice prends la valeur de la seule autre porte\u001b[0m\u001b[0;34m\u001b[0m\u001b[0;34m\u001b[0m\u001b[0;34m\u001b[0m\u001b[0m\n\u001b[0;32m---> 33\u001b[0;31m     \u001b[0;32melif\u001b[0m \u001b[0;34m(\u001b[0m\u001b[0mstratefy\u001b[0m \u001b[0;34m==\u001b[0m \u001b[0mStrategy\u001b[0m\u001b[0;34m.\u001b[0m\u001b[0mCHANGE\u001b[0m\u001b[0;34m)\u001b[0m \u001b[0;34m:\u001b[0m\u001b[0;34m\u001b[0m\u001b[0;34m\u001b[0m\u001b[0m\n\u001b[0m\u001b[1;32m     34\u001b[0m         \u001b[0msecond_choice\u001b[0m \u001b[0;34m=\u001b[0m \u001b[0mdoors\u001b[0m\u001b[0;34m[\u001b[0m\u001b[0;36m0\u001b[0m\u001b[0;34m]\u001b[0m\u001b[0;34m\u001b[0m\u001b[0;34m\u001b[0m\u001b[0m\n\u001b[1;32m     35\u001b[0m     \u001b[0;31m# sinon si la stratégie est de choisir au hasard :\u001b[0m\u001b[0;34m\u001b[0m\u001b[0;34m\u001b[0m\u001b[0;34m\u001b[0m\u001b[0m\n",
      "\u001b[0;31mNameError\u001b[0m: name 'stratefy' is not defined"
     ]
    }
   ],
   "source": [
    "plt.bar( [1,2,3], [sum(play(Strategy.KEEP, 1000)), \n",
    "                   sum(play(Strategy.CHANGE, 1000)),\n",
    "                   sum(play(Strategy.ALEA, 1000))] )"
   ]
  },
  {
   "cell_type": "code",
   "execution_count": null,
   "metadata": {},
   "outputs": [],
   "source": []
  }
 ],
 "metadata": {
  "kernelspec": {
   "display_name": "Python 3",
   "language": "python",
   "name": "python3"
  },
  "language_info": {
   "codemirror_mode": {
    "name": "ipython",
    "version": 3
   },
   "file_extension": ".py",
   "mimetype": "text/x-python",
   "name": "python",
   "nbconvert_exporter": "python",
   "pygments_lexer": "ipython3",
   "version": "3.7.6"
  }
 },
 "nbformat": 4,
 "nbformat_minor": 4
}
